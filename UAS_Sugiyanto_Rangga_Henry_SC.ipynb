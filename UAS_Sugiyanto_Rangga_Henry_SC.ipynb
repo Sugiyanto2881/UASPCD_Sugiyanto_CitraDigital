{
 "cells": [
  {
   "cell_type": "code",
   "execution_count": 1,
   "id": "e3a1ffe9-fdca-40fe-85e7-8d830c782acc",
   "metadata": {},
   "outputs": [
    {
     "name": "stdout",
     "output_type": "stream",
     "text": [
      "* Running on local URL:  http://127.0.0.1:7860\n",
      "\n",
      "To create a public link, set `share=True` in `launch()`.\n"
     ]
    },
    {
     "data": {
      "text/html": [
       "<div><iframe src=\"http://127.0.0.1:7860/\" width=\"100%\" height=\"500\" allow=\"autoplay; camera; microphone; clipboard-read; clipboard-write;\" frameborder=\"0\" allowfullscreen></iframe></div>"
      ],
      "text/plain": [
       "<IPython.core.display.HTML object>"
      ]
     },
     "metadata": {},
     "output_type": "display_data"
    },
    {
     "data": {
      "text/plain": []
     },
     "execution_count": 1,
     "metadata": {},
     "output_type": "execute_result"
    }
   ],
   "source": [
    "import cv2\n",
    "import numpy as np\n",
    "import gradio as gr\n",
    "from PIL import Image\n",
    "\n",
    "# Fungsi untuk meningkatkan kualitas gambar\n",
    "def improve_image(uploaded_image, sharpness_factor, blur_level, use_clahe):\n",
    "    if uploaded_image is None:\n",
    "        return None, None\n",
    "\n",
    "    img = np.array(uploaded_image)\n",
    "    \n",
    "    # Konversi ke LAB untuk mempertahankan warna saat equalization\n",
    "    lab = cv2.cvtColor(img, cv2.COLOR_RGB2LAB)\n",
    "    l, a, b = cv2.split(lab)\n",
    "\n",
    "    # Histogram Equalization atau CLAHE\n",
    "    if use_clahe:\n",
    "        clahe = cv2.createCLAHE(clipLimit=3.0, tileGridSize=(8, 8))\n",
    "        l = clahe.apply(l)\n",
    "    else:\n",
    "        l = cv2.equalizeHist(l)\n",
    "\n",
    "    # Gabungkan kembali LAB dan konversi ke RGB\n",
    "    lab_equalized = cv2.merge((l, a, b))\n",
    "    img_enhanced = cv2.cvtColor(lab_equalized, cv2.COLOR_LAB2RGB)\n",
    "\n",
    "    # Noise Reduction (Gaussian Blur)\n",
    "    blur_size = (blur_level * 2 + 1, blur_level * 2 + 1)\n",
    "    img_blur = cv2.GaussianBlur(img_enhanced, blur_size, 0)\n",
    "\n",
    "    # Sharpening menggunakan Unsharp Masking\n",
    "    gaussian = cv2.GaussianBlur(img_blur, (0, 0), sigmaX=2)\n",
    "    sharpened = cv2.addWeighted(img_blur, 1.0 + sharpness_factor / 10, gaussian, -sharpness_factor / 10, 0)\n",
    "\n",
    "    # Konversi kembali ke PIL\n",
    "    result_img = Image.fromarray(sharpened)\n",
    "\n",
    "    return uploaded_image, result_img\n",
    "\n",
    "# Antarmuka Gradio\n",
    "iface = gr.Interface(\n",
    "    fn=improve_image,\n",
    "    inputs=[\n",
    "        gr.Image(type=\"pil\"),\n",
    "        gr.Slider(1, 10, value=5, label=\"Sharpness Factor\"),\n",
    "        gr.Slider(1, 5, value=2, label=\"Blur Level\"),\n",
    "        gr.Checkbox(label=\"Gunakan CLAHE (Peningkatan Kontras Adaptif)\"),\n",
    "    ],\n",
    "    outputs=[gr.Image(type=\"pil\", label=\"Sebelum\"), gr.Image(type=\"pil\", label=\"Sesudah\")],\n",
    "    title=\"Peningkatan Kualitas Gambar\",\n",
    "    description=\"Unggah gambar dan sesuaikan pengaturan untuk melihat hasil peningkatan kualitas.\",\n",
    ")\n",
    "\n",
    "iface.launch()\n"
   ]
  },
  {
   "cell_type": "code",
   "execution_count": null,
   "id": "99f4494a-3ecd-4f9b-8854-71248e588cc9",
   "metadata": {},
   "outputs": [],
   "source": []
  }
 ],
 "metadata": {
  "kernelspec": {
   "display_name": "Python 3 (ipykernel)",
   "language": "python",
   "name": "python3"
  },
  "language_info": {
   "codemirror_mode": {
    "name": "ipython",
    "version": 3
   },
   "file_extension": ".py",
   "mimetype": "text/x-python",
   "name": "python",
   "nbconvert_exporter": "python",
   "pygments_lexer": "ipython3",
   "version": "3.12.6"
  }
 },
 "nbformat": 4,
 "nbformat_minor": 5
}
